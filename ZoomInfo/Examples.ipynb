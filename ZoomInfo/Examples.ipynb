{
 "cells": [
  {
   "cell_type": "markdown",
   "metadata": {},
   "source": []
  },
  {
   "cell_type": "code",
   "execution_count": 1,
   "id": "d37e925f-1602-4547-b54e-884cd0ed6924",
   "metadata": {
    "tags": []
   },
   "outputs": [],
   "source": [
    "from langchain import PromptTemplate, LLMChain, Anthropic\n",
    "import json\n",
    "import pandas as pd\n",
    "import numpy as np\n",
    "from ast import literal_eval\n",
    "import itertools\n",
    "import re"
   ]
  },{
   "cell_type": "code",
   "execution_count": 7,
   "id": "26484289-5365-46c1-ab5c-9814f4e21d45",
   "metadata": {
    "tags": []
   },
   "outputs": [],
   "source": [
    "prompt = PromptTemplate(template=template_no_overlap, input_variables=[\"topics\"])"
   ]
  },
  {
   "cell_type": "code",
   "execution_count": 8,
   "id": "0de5ba03-208c-4a79-b07b-466de90b0777",
   "metadata": {
    "tags": []
   },
   "outputs": [],
   "source": [
    "llm = Anthropic(temperature=1, model=\"claude-v1.3\")"
   ]
  },
  {
   "cell_type": "code",
   "execution_count": 9,
   "id": "94a82f7b-5a05-45dd-8af3-fa6cdc54fc87",
   "metadata": {
    "tags": []
   },
   "outputs": [],
   "source": [
    "llm_chain = LLMChain(prompt=prompt, llm=llm)"
   ]
  }
}
