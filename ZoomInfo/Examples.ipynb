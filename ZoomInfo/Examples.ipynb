from langchain import PromptTemplate, LLMChain, Anthropic

prompt = PromptTemplate(template=template_no_overlap, input_variables=["topics"])

llm = Anthropic(temperature=1, model="claude-v1.3")

llm_chain = LLMChain(prompt=prompt, llm=llm)

llm_name_chain = LLMChain(prompt=prompt, llm=llm)
